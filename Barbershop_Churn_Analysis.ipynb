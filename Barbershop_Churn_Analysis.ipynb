{
  "nbformat": 4,
  "nbformat_minor": 0,
  "metadata": {
    "colab": {
      "name": "Barbershop Churn Analysis.ipynb",
      "provenance": [],
      "authorship_tag": "ABX9TyPd/DYE7xsVpBk6mhK8PRTZ",
      "include_colab_link": true
    },
    "kernelspec": {
      "name": "python3",
      "display_name": "Python 3"
    },
    "language_info": {
      "name": "python"
    }
  },
  "cells": [
    {
      "cell_type": "markdown",
      "metadata": {
        "id": "view-in-github",
        "colab_type": "text"
      },
      "source": [
        "<a href=\"https://colab.research.google.com/github/felipe7leal/Barbershop_Churn_Analysis/blob/main/Barbershop_Churn_Analysis.ipynb\" target=\"_parent\"><img src=\"https://colab.research.google.com/assets/colab-badge.svg\" alt=\"Open In Colab\"/></a>"
      ]
    },
    {
      "cell_type": "markdown",
      "source": [
        "##### install/import"
      ],
      "metadata": {
        "id": "OHgO_Z0-XDM9"
      }
    },
    {
      "cell_type": "code",
      "source": [
        ""
      ],
      "metadata": {
        "id": "t5eXzAne0PXF"
      },
      "execution_count": null,
      "outputs": []
    },
    {
      "cell_type": "markdown",
      "source": [
        "# Entendimento do Problema"
      ],
      "metadata": {
        "id": "bdKur7pa0Rzr"
      }
    },
    {
      "cell_type": "markdown",
      "source": [
        "## Objetivo do trabalho\n",
        "Este trabalho tem como objetivo **predizer a evasão** dos **clientes de uma Barbershop** com um **público diversificado**.\n",
        "\n",
        "A predição será realizada utilizando **dados históricos transacionais** e **modelos estatísticos** e **algoritmos de Inteligência Artificial**, que selecionarão as **características mais relevantes** que explicam o abandono registrado em sua base de clientes.\n",
        "\n",
        "Desta forma, a empresa poderá traçar **estratégias de relacionamento** e desenvolver  **ações preventivas** para auxiliar uma postura proativa na gestão do negócio.\n"
      ],
      "metadata": {
        "id": "_NJgYCGYXWbs"
      }
    },
    {
      "cell_type": "markdown",
      "source": [
        "## Contextualização do Problema\n",
        "\n",
        "A barbearia utiliza uma solução de mercado (Avec) e identificou, pelos relatórios da plataforma, que seu indicador de **taxa de retorno é baixa**.   \n",
        "\n",
        "Este é um mercado que vem crescendo cada vez mais e praticamente dobrou nos últimos anos. Dados da Euromonitor Internacional mostram que o faturamento passou de ```R$``` 10,7 bi em, 2011 para ```R$``` 19,6 bi em 2016, com projeção de alcance de ```R$``` 26,7 bi até 2021. Com esse boom de barbearias, temos um **cenário saturado** e com **alta competitividade**. Logo, tão importante quanto a aquisição de novos clientes é necessário trabalhar a **retenção e fidelização**.\n",
        "\n",
        "Dado que **o perfil dos clientes é bastante diversificado** e dificulta o entendimento da evasão, que se dá num período de 45 dias após a última visita, a solução proposta para o problema será através da **construção de um modelo preditivo de churn**. \n",
        "\n",
        "Como o negócio ainda não atingiu seu **estágio de maturação**, o modelo auxiliará a instituição a trabalhar de forma otimizada suas **ações de marketing** e **politica de descontos**, visando não comprometer as margens.\n"
      ],
      "metadata": {
        "id": "Ntt97KH8aa_r"
      }
    },
    {
      "cell_type": "markdown",
      "source": [
        "# Aquisição dos dados"
      ],
      "metadata": {
        "id": "Rpwxu0qRXTSp"
      }
    },
    {
      "cell_type": "markdown",
      "source": [
        "Estão sendo utilizados **dados secundários** oriundos dos relatórios extraídos da plataforma Avec, que especializada no setor de estética é o player líder de mercado em soluções digitais. \n",
        "\n",
        "Para efeito de **LGPD**, **dados sensíveis não serão aplicados** nesse estudo, em último caso serão aplicadas técnicas de anonimização, supressão, pseudonimização ou generalização.\n",
        "\n",
        "Arquivos/relatórios:\n",
        "* **0004 - Clientes** \n",
        "  \n",
        "  Visão da base\n",
        "  * Clientes - todos os clientes cadastrados no sistema\n",
        "\n",
        "\n",
        "* **0031 - Serviços**\n",
        "\n",
        "  Visão da base\n",
        "  * Serviços – todos os serviços que geram comanda, com agendamento ou não\n",
        "\n",
        "  Filtros de inclusão\n",
        "  * Serviços realizados desde 2º tri 2018\n",
        "\n",
        "\n",
        "* **0041 - Produtos**\n",
        "\n",
        "  Visão da base\n",
        "  * Produtos de estética e bebidas vendidas na barbershop\n",
        "\n",
        "  Filtros de inclusão\n",
        "  * Produtos vendidos desde 2º tri 2018  \n",
        "\n",
        "\n",
        "* **0051 - Agendamentos**\n",
        "  \n",
        "  Visão da base\n",
        "  * Agendamentos dos clientes, realizados ou cancelados \n",
        "\n",
        "  Filtros de inclusão\n",
        "  * Agendamentos realizados desde 2º tri 2018\n"
      ],
      "metadata": {
        "id": "BBux6xSRkPQh"
      }
    },
    {
      "cell_type": "code",
      "source": [
        ""
      ],
      "metadata": {
        "id": "v2eWFTmJkRDF"
      },
      "execution_count": null,
      "outputs": []
    },
    {
      "cell_type": "markdown",
      "source": [
        "# Entendimento dos dados"
      ],
      "metadata": {
        "id": "ow5uBB45XeHG"
      }
    },
    {
      "cell_type": "code",
      "source": [
        ""
      ],
      "metadata": {
        "id": "8QINZ1LHXly3"
      },
      "execution_count": null,
      "outputs": []
    },
    {
      "cell_type": "markdown",
      "source": [
        "# Modelagem"
      ],
      "metadata": {
        "id": "WU66HZp9YW6y"
      }
    },
    {
      "cell_type": "code",
      "source": [
        ""
      ],
      "metadata": {
        "id": "HoDtdO8dYYUD"
      },
      "execution_count": null,
      "outputs": []
    },
    {
      "cell_type": "markdown",
      "source": [
        "# Avaliação dos resultados"
      ],
      "metadata": {
        "id": "1-ogcAnzYnee"
      }
    },
    {
      "cell_type": "code",
      "source": [
        ""
      ],
      "metadata": {
        "id": "Im9Y-fgAYpt8"
      },
      "execution_count": null,
      "outputs": []
    }
  ]
}